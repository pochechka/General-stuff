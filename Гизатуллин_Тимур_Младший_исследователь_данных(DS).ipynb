{
 "cells": [
  {
   "cell_type": "code",
   "execution_count": 124,
   "metadata": {},
   "outputs": [],
   "source": [
    "# |exporti\n",
    "import pandas as pd\n",
    "import numpy as np\n",
    "import matplotlib.pyplot as plt\n",
    "import seaborn as sns\n",
    "import scipy.stats as sps\n",
    "import streamlit as st\n",
    "import streamlit as st\n",
    "\n",
    "from streamlit_jupyter import StreamlitPatcher\n",
    "\n",
    "StreamlitPatcher().jupyter()\n"
   ]
  },
  {
   "cell_type": "code",
   "execution_count": 167,
   "metadata": {},
   "outputs": [],
   "source": [
    "from nbdev.export import nb_export\n",
    "\n",
    "nb_export(\"Гизатуллин_Тимур_Младший_исследователь_данных(DS).ipynb\", lib_path=\"./\", name=\"app\")\n"
   ]
  },
  {
   "cell_type": "code",
   "execution_count": 126,
   "metadata": {},
   "outputs": [
    {
     "data": {
      "text/markdown": [
       "# Тестовое задание. Гизатуллин Тимур"
      ],
      "text/plain": [
       "<IPython.core.display.Markdown object>"
      ]
     },
     "metadata": {},
     "output_type": "display_data"
    },
    {
     "data": {
      "text/markdown": [
       "## Описание задачи"
      ],
      "text/plain": [
       "<IPython.core.display.Markdown object>"
      ]
     },
     "metadata": {},
     "output_type": "display_data"
    },
    {
     "data": {
      "text/markdown": [
       "Суть задания заключается в проверке двух гипотез:\n",
       "1) Мужчины пропускают в течение года более 2 рабочих дней (work_days) по болезни значимо чаще женщин.\n",
       "2) Работники старше 35 лет (age) пропускают в течение года более 2 рабочих дней (work_days) по болезни значимо чаще своих более молодых коллег.\n",
       "\n",
       "по данным о количестве больничных дней для каждого сотрудника с указанием его возраста и пола за последний год(предположительно)."
      ],
      "text/plain": [
       "<IPython.core.display.Markdown object>"
      ]
     },
     "metadata": {},
     "output_type": "display_data"
    }
   ],
   "source": [
    "# |exporti\n",
    "st.title(\"Тестовое задание. Гизатуллин Тимур\")\n",
    "st.header(\"Описание задачи\")\n",
    "st.markdown(\"\"\"Суть задания заключается в проверке двух гипотез:\n",
    "1) Мужчины пропускают в течение года более 2 рабочих дней (work_days) по болезни значимо чаще женщин.\n",
    "2) Работники старше 35 лет (age) пропускают в течение года более 2 рабочих дней (work_days) по болезни значимо чаще своих более молодых коллег.\n",
    "\n",
    "по данным о количестве больничных дней для каждого сотрудника с указанием его возраста и пола за последний год(предположительно).\"\"\")\n"
   ]
  },
  {
   "cell_type": "code",
   "execution_count": 127,
   "metadata": {},
   "outputs": [
    {
     "data": {
      "text/markdown": [
       "Гипотезы можно переформулировать так:\n",
       "\n",
       "$$1. \\mu([Male > 2]) \\gg \\mu([Female > 2])$$\n",
       "\n",
       "$$2. \\mu([Elder > 2]) \\gg \\mu([Younger > 2])$$"
      ],
      "text/plain": [
       "<IPython.core.display.Markdown object>"
      ]
     },
     "metadata": {},
     "output_type": "display_data"
    }
   ],
   "source": [
    "# |exporti\n",
    "st.markdown(\"\"\"Гипотезы можно переформулировать так:\n",
    "\n",
    "$$1. \\mu([Male > 2]) \\gg \\mu([Female > 2])$$\n",
    "\n",
    "$$2. \\mu([Elder > 2]) \\gg \\mu([Younger > 2])$$\"\"\")\n"
   ]
  },
  {
   "cell_type": "code",
   "execution_count": 128,
   "metadata": {},
   "outputs": [
    {
     "data": {
      "text/markdown": [
       "Гипотезы будем проверять с уровнем значимости = 0.05"
      ],
      "text/plain": [
       "<IPython.core.display.Markdown object>"
      ]
     },
     "metadata": {},
     "output_type": "display_data"
    }
   ],
   "source": [
    "# |exporti\n",
    "st.markdown(\"\"\"Гипотезы будем проверять с уровнем значимости = 0.05\"\"\")\n"
   ]
  },
  {
   "cell_type": "code",
   "execution_count": 129,
   "metadata": {},
   "outputs": [],
   "source": [
    "# |exporti\n",
    "uploaded_file = st.file_uploader(label='Выберите файл для загрузки', type = [\"csv\"])\n",
    "    # Форма для загрузки изображения средствами Streamlit\n",
    "if uploaded_file is not None:\n",
    "        # Получение загруженного файла\n",
    "    data = pd.read_csv(uploaded_file, encoding='latin-1', sep = \",\")\n",
    "        # Показ загруженного файла на Web-странице средствами Streamlit\n",
    "    st.dataframe(data)\n",
    "        # Возврат файла в формате .csv\n"
   ]
  },
  {
   "cell_type": "code",
   "execution_count": 130,
   "metadata": {},
   "outputs": [],
   "source": [
    "show_data = st.sidebar.checkbox('Show raw data')\n",
    "if show_data == True:\n",
    "    st.subheader('Raw data')\n",
    "    st.write(data)\n"
   ]
  },
  {
   "cell_type": "code",
   "execution_count": 131,
   "metadata": {},
   "outputs": [
    {
     "data": {
      "text/markdown": [
       "Как видим, в силу некорректной кодировки, а также неправильного формата разделения: все значения содержатся в одном столбце, нам придется провести некоторые модификации с датафреймом"
      ],
      "text/plain": [
       "<IPython.core.display.Markdown object>"
      ]
     },
     "metadata": {},
     "output_type": "display_data"
    }
   ],
   "source": [
    "# |exporti\n",
    "st.markdown(\"Как видим, в силу некорректной кодировки, а также неправильного формата разделения: все значения содержатся в одном столбце, нам придется провести некоторые модификации с датафреймом\")\n"
   ]
  },
  {
   "cell_type": "code",
   "execution_count": 132,
   "metadata": {},
   "outputs": [
    {
     "ename": "IndexError",
     "evalue": "index 0 is out of bounds for axis 0 with size 0",
     "output_type": "error",
     "traceback": [
      "\u001b[0;31m---------------------------------------------------------------------------\u001b[0m",
      "\u001b[0;31mIndexError\u001b[0m                                Traceback (most recent call last)",
      "File \u001b[0;32m~/miniforge3/lib/python3.10/site-packages/pandas/core/indexes/range.py:982\u001b[0m, in \u001b[0;36mRangeIndex.__getitem__\u001b[0;34m(self, key)\u001b[0m\n\u001b[1;32m    981\u001b[0m \u001b[39mtry\u001b[39;00m:\n\u001b[0;32m--> 982\u001b[0m     \u001b[39mreturn\u001b[39;00m \u001b[39mself\u001b[39;49m\u001b[39m.\u001b[39;49m_range[new_key]\n\u001b[1;32m    983\u001b[0m \u001b[39mexcept\u001b[39;00m \u001b[39mIndexError\u001b[39;00m \u001b[39mas\u001b[39;00m err:\n",
      "\u001b[0;31mIndexError\u001b[0m: range object index out of range",
      "\nThe above exception was the direct cause of the following exception:\n",
      "\u001b[0;31mIndexError\u001b[0m                                Traceback (most recent call last)",
      "\u001b[1;32m/Users/dadaya/Desktop/M.tech/Гизатуллин_Тимур_Младший_исследователь_данных(DS).ipynb Ячейка 9\u001b[0m line \u001b[0;36m2\n\u001b[1;32m      <a href='vscode-notebook-cell:/Users/dadaya/Desktop/M.tech/%D0%93%D0%B8%D0%B7%D0%B0%D1%82%D1%83%D0%BB%D0%BB%D0%B8%D0%BD_%D0%A2%D0%B8%D0%BC%D1%83%D1%80_%D0%9C%D0%BB%D0%B0%D0%B4%D1%88%D0%B8%D0%B9_%D0%B8%D1%81%D1%81%D0%BB%D0%B5%D0%B4%D0%BE%D0%B2%D0%B0%D1%82%D0%B5%D0%BB%D1%8C_%D0%B4%D0%B0%D0%BD%D0%BD%D1%8B%D1%85%28DS%29.ipynb#X13sZmlsZQ%3D%3D?line=0'>1</a>\u001b[0m \u001b[39m# |exporti\u001b[39;00m\n\u001b[0;32m----> <a href='vscode-notebook-cell:/Users/dadaya/Desktop/M.tech/%D0%93%D0%B8%D0%B7%D0%B0%D1%82%D1%83%D0%BB%D0%BB%D0%B8%D0%BD_%D0%A2%D0%B8%D0%BC%D1%83%D1%80_%D0%9C%D0%BB%D0%B0%D0%B4%D1%88%D0%B8%D0%B9_%D0%B8%D1%81%D1%81%D0%BB%D0%B5%D0%B4%D0%BE%D0%B2%D0%B0%D1%82%D0%B5%D0%BB%D1%8C_%D0%B4%D0%B0%D0%BD%D0%BD%D1%8B%D1%85%28DS%29.ipynb#X13sZmlsZQ%3D%3D?line=1'>2</a>\u001b[0m data \u001b[39m=\u001b[39m data[data\u001b[39m.\u001b[39;49mcolumns[\u001b[39m0\u001b[39;49m]]\u001b[39m.\u001b[39mstr\u001b[39m.\u001b[39msplit(\u001b[39m\"\u001b[39m\u001b[39m,\u001b[39m\u001b[39m\"\u001b[39m, expand \u001b[39m=\u001b[39m \u001b[39mTrue\u001b[39;00m)\n\u001b[1;32m      <a href='vscode-notebook-cell:/Users/dadaya/Desktop/M.tech/%D0%93%D0%B8%D0%B7%D0%B0%D1%82%D1%83%D0%BB%D0%BB%D0%B8%D0%BD_%D0%A2%D0%B8%D0%BC%D1%83%D1%80_%D0%9C%D0%BB%D0%B0%D0%B4%D1%88%D0%B8%D0%B9_%D0%B8%D1%81%D1%81%D0%BB%D0%B5%D0%B4%D0%BE%D0%B2%D0%B0%D1%82%D0%B5%D0%BB%D1%8C_%D0%B4%D0%B0%D0%BD%D0%BD%D1%8B%D1%85%28DS%29.ipynb#X13sZmlsZQ%3D%3D?line=2'>3</a>\u001b[0m data\u001b[39m.\u001b[39mcolumns \u001b[39m=\u001b[39m [\u001b[39m\"\u001b[39m\u001b[39msick_days_amount\u001b[39m\u001b[39m\"\u001b[39m, \u001b[39m'\u001b[39m\u001b[39mage\u001b[39m\u001b[39m'\u001b[39m, \u001b[39m'\u001b[39m\u001b[39msex\u001b[39m\u001b[39m'\u001b[39m]\n\u001b[1;32m      <a href='vscode-notebook-cell:/Users/dadaya/Desktop/M.tech/%D0%93%D0%B8%D0%B7%D0%B0%D1%82%D1%83%D0%BB%D0%BB%D0%B8%D0%BD_%D0%A2%D0%B8%D0%BC%D1%83%D1%80_%D0%9C%D0%BB%D0%B0%D0%B4%D1%88%D0%B8%D0%B9_%D0%B8%D1%81%D1%81%D0%BB%D0%B5%D0%B4%D0%BE%D0%B2%D0%B0%D1%82%D0%B5%D0%BB%D1%8C_%D0%B4%D0%B0%D0%BD%D0%BD%D1%8B%D1%85%28DS%29.ipynb#X13sZmlsZQ%3D%3D?line=3'>4</a>\u001b[0m data[\u001b[39m'\u001b[39m\u001b[39msex\u001b[39m\u001b[39m'\u001b[39m] \u001b[39m=\u001b[39m np\u001b[39m.\u001b[39mwhere((data[\u001b[39m'\u001b[39m\u001b[39msex\u001b[39m\u001b[39m'\u001b[39m] \u001b[39m==\u001b[39m data[\u001b[39m'\u001b[39m\u001b[39msex\u001b[39m\u001b[39m'\u001b[39m][\u001b[39m0\u001b[39m]), \u001b[39m\"\u001b[39m\u001b[39mfemale\u001b[39m\u001b[39m\"\u001b[39m, \u001b[39m\"\u001b[39m\u001b[39mmale\u001b[39m\u001b[39m\"\u001b[39m) \u001b[39m# тут узнал что есть М, а что - Ж по обратной кодировке\u001b[39;00m\n",
      "File \u001b[0;32m~/miniforge3/lib/python3.10/site-packages/pandas/core/indexes/range.py:984\u001b[0m, in \u001b[0;36mRangeIndex.__getitem__\u001b[0;34m(self, key)\u001b[0m\n\u001b[1;32m    982\u001b[0m         \u001b[39mreturn\u001b[39;00m \u001b[39mself\u001b[39m\u001b[39m.\u001b[39m_range[new_key]\n\u001b[1;32m    983\u001b[0m     \u001b[39mexcept\u001b[39;00m \u001b[39mIndexError\u001b[39;00m \u001b[39mas\u001b[39;00m err:\n\u001b[0;32m--> 984\u001b[0m         \u001b[39mraise\u001b[39;00m \u001b[39mIndexError\u001b[39;00m(\n\u001b[1;32m    985\u001b[0m             \u001b[39mf\u001b[39m\u001b[39m\"\u001b[39m\u001b[39mindex \u001b[39m\u001b[39m{\u001b[39;00mkey\u001b[39m}\u001b[39;00m\u001b[39m is out of bounds for axis 0 with size \u001b[39m\u001b[39m{\u001b[39;00m\u001b[39mlen\u001b[39m(\u001b[39mself\u001b[39m)\u001b[39m}\u001b[39;00m\u001b[39m\"\u001b[39m\n\u001b[1;32m    986\u001b[0m         ) \u001b[39mfrom\u001b[39;00m \u001b[39merr\u001b[39;00m\n\u001b[1;32m    987\u001b[0m \u001b[39melif\u001b[39;00m is_scalar(key):\n\u001b[1;32m    988\u001b[0m     \u001b[39mraise\u001b[39;00m \u001b[39mIndexError\u001b[39;00m(\n\u001b[1;32m    989\u001b[0m         \u001b[39m\"\u001b[39m\u001b[39monly integers, slices (`:`), \u001b[39m\u001b[39m\"\u001b[39m\n\u001b[1;32m    990\u001b[0m         \u001b[39m\"\u001b[39m\u001b[39mellipsis (`...`), numpy.newaxis (`None`) \u001b[39m\u001b[39m\"\u001b[39m\n\u001b[1;32m    991\u001b[0m         \u001b[39m\"\u001b[39m\u001b[39mand integer or boolean \u001b[39m\u001b[39m\"\u001b[39m\n\u001b[1;32m    992\u001b[0m         \u001b[39m\"\u001b[39m\u001b[39marrays are valid indices\u001b[39m\u001b[39m\"\u001b[39m\n\u001b[1;32m    993\u001b[0m     )\n",
      "\u001b[0;31mIndexError\u001b[0m: index 0 is out of bounds for axis 0 with size 0"
     ]
    }
   ],
   "source": [
    "# |exporti\n",
    "data = data[data.columns[0]].str.split(\",\", expand = True)\n",
    "data.columns = [\"sick_days_amount\", 'age', 'sex']\n",
    "data['sex'] = np.where((data['sex'] == data['sex'][0]), \"female\", \"male\") # тут узнал что есть М, а что - Ж по обратной кодировке\n",
    "data['age'], data['sick_days_amount'] = data['age'].astype('int'), data['sick_days_amount'].astype('int')\n",
    "st.dataframe(data)\n"
   ]
  },
  {
   "cell_type": "code",
   "execution_count": 133,
   "metadata": {},
   "outputs": [
    {
     "name": "stdout",
     "output_type": "stream",
     "text": [
      "<class 'pandas.core.frame.DataFrame'>\n",
      "RangeIndex: 0 entries\n",
      "Empty DataFrame\n"
     ]
    },
    {
     "ename": "ValueError",
     "evalue": "Cannot describe a DataFrame without columns",
     "output_type": "error",
     "traceback": [
      "\u001b[0;31m---------------------------------------------------------------------------\u001b[0m",
      "\u001b[0;31mValueError\u001b[0m                                Traceback (most recent call last)",
      "\u001b[1;32m/Users/dadaya/Desktop/M.tech/Гизатуллин_Тимур_Младший_исследователь_данных(DS).ipynb Ячейка 10\u001b[0m line \u001b[0;36m2\n\u001b[1;32m      <a href='vscode-notebook-cell:/Users/dadaya/Desktop/M.tech/%D0%93%D0%B8%D0%B7%D0%B0%D1%82%D1%83%D0%BB%D0%BB%D0%B8%D0%BD_%D0%A2%D0%B8%D0%BC%D1%83%D1%80_%D0%9C%D0%BB%D0%B0%D0%B4%D1%88%D0%B8%D0%B9_%D0%B8%D1%81%D1%81%D0%BB%D0%B5%D0%B4%D0%BE%D0%B2%D0%B0%D1%82%D0%B5%D0%BB%D1%8C_%D0%B4%D0%B0%D0%BD%D0%BD%D1%8B%D1%85%28DS%29.ipynb#X14sZmlsZQ%3D%3D?line=0'>1</a>\u001b[0m \u001b[39m# |exporti\u001b[39;00m\n\u001b[0;32m----> <a href='vscode-notebook-cell:/Users/dadaya/Desktop/M.tech/%D0%93%D0%B8%D0%B7%D0%B0%D1%82%D1%83%D0%BB%D0%BB%D0%B8%D0%BD_%D0%A2%D0%B8%D0%BC%D1%83%D1%80_%D0%9C%D0%BB%D0%B0%D0%B4%D1%88%D0%B8%D0%B9_%D0%B8%D1%81%D1%81%D0%BB%D0%B5%D0%B4%D0%BE%D0%B2%D0%B0%D1%82%D0%B5%D0%BB%D1%8C_%D0%B4%D0%B0%D0%BD%D0%BD%D1%8B%D1%85%28DS%29.ipynb#X14sZmlsZQ%3D%3D?line=1'>2</a>\u001b[0m \u001b[39mprint\u001b[39m(data\u001b[39m.\u001b[39minfo(), data\u001b[39m.\u001b[39;49mdescribe())\n",
      "File \u001b[0;32m~/miniforge3/lib/python3.10/site-packages/pandas/core/generic.py:11544\u001b[0m, in \u001b[0;36mNDFrame.describe\u001b[0;34m(self, percentiles, include, exclude)\u001b[0m\n\u001b[1;32m  11302\u001b[0m \u001b[39m@final\u001b[39m\n\u001b[1;32m  11303\u001b[0m \u001b[39mdef\u001b[39;00m \u001b[39mdescribe\u001b[39m(\n\u001b[1;32m  11304\u001b[0m     \u001b[39mself\u001b[39m,\n\u001b[0;32m   (...)\u001b[0m\n\u001b[1;32m  11307\u001b[0m     exclude\u001b[39m=\u001b[39m\u001b[39mNone\u001b[39;00m,\n\u001b[1;32m  11308\u001b[0m ) \u001b[39m-\u001b[39m\u001b[39m>\u001b[39m Self:\n\u001b[1;32m  11309\u001b[0m \u001b[39m    \u001b[39m\u001b[39m\"\"\"\u001b[39;00m\n\u001b[1;32m  11310\u001b[0m \u001b[39m    Generate descriptive statistics.\u001b[39;00m\n\u001b[1;32m  11311\u001b[0m \n\u001b[0;32m   (...)\u001b[0m\n\u001b[1;32m  11542\u001b[0m \u001b[39m    max            NaN      3.0\u001b[39;00m\n\u001b[1;32m  11543\u001b[0m \u001b[39m    \"\"\"\u001b[39;00m\n\u001b[0;32m> 11544\u001b[0m     \u001b[39mreturn\u001b[39;00m describe_ndframe(\n\u001b[1;32m  11545\u001b[0m         obj\u001b[39m=\u001b[39;49m\u001b[39mself\u001b[39;49m,\n\u001b[1;32m  11546\u001b[0m         include\u001b[39m=\u001b[39;49minclude,\n\u001b[1;32m  11547\u001b[0m         exclude\u001b[39m=\u001b[39;49mexclude,\n\u001b[1;32m  11548\u001b[0m         percentiles\u001b[39m=\u001b[39;49mpercentiles,\n\u001b[1;32m  11549\u001b[0m     )\u001b[39m.\u001b[39m__finalize__(\u001b[39mself\u001b[39m, method\u001b[39m=\u001b[39m\u001b[39m\"\u001b[39m\u001b[39mdescribe\u001b[39m\u001b[39m\"\u001b[39m)\n",
      "File \u001b[0;32m~/miniforge3/lib/python3.10/site-packages/pandas/core/methods/describe.py:91\u001b[0m, in \u001b[0;36mdescribe_ndframe\u001b[0;34m(obj, include, exclude, percentiles)\u001b[0m\n\u001b[1;32m     87\u001b[0m     describer \u001b[39m=\u001b[39m SeriesDescriber(\n\u001b[1;32m     88\u001b[0m         obj\u001b[39m=\u001b[39mcast(\u001b[39m\"\u001b[39m\u001b[39mSeries\u001b[39m\u001b[39m\"\u001b[39m, obj),\n\u001b[1;32m     89\u001b[0m     )\n\u001b[1;32m     90\u001b[0m \u001b[39melse\u001b[39;00m:\n\u001b[0;32m---> 91\u001b[0m     describer \u001b[39m=\u001b[39m DataFrameDescriber(\n\u001b[1;32m     92\u001b[0m         obj\u001b[39m=\u001b[39;49mcast(\u001b[39m\"\u001b[39;49m\u001b[39mDataFrame\u001b[39;49m\u001b[39m\"\u001b[39;49m, obj),\n\u001b[1;32m     93\u001b[0m         include\u001b[39m=\u001b[39;49minclude,\n\u001b[1;32m     94\u001b[0m         exclude\u001b[39m=\u001b[39;49mexclude,\n\u001b[1;32m     95\u001b[0m     )\n\u001b[1;32m     97\u001b[0m result \u001b[39m=\u001b[39m describer\u001b[39m.\u001b[39mdescribe(percentiles\u001b[39m=\u001b[39mpercentiles)\n\u001b[1;32m     98\u001b[0m \u001b[39mreturn\u001b[39;00m cast(NDFrameT, result)\n",
      "File \u001b[0;32m~/miniforge3/lib/python3.10/site-packages/pandas/core/methods/describe.py:160\u001b[0m, in \u001b[0;36mDataFrameDescriber.__init__\u001b[0;34m(self, obj, include, exclude)\u001b[0m\n\u001b[1;32m    157\u001b[0m \u001b[39mself\u001b[39m\u001b[39m.\u001b[39mexclude \u001b[39m=\u001b[39m exclude\n\u001b[1;32m    159\u001b[0m \u001b[39mif\u001b[39;00m obj\u001b[39m.\u001b[39mndim \u001b[39m==\u001b[39m \u001b[39m2\u001b[39m \u001b[39mand\u001b[39;00m obj\u001b[39m.\u001b[39mcolumns\u001b[39m.\u001b[39msize \u001b[39m==\u001b[39m \u001b[39m0\u001b[39m:\n\u001b[0;32m--> 160\u001b[0m     \u001b[39mraise\u001b[39;00m \u001b[39mValueError\u001b[39;00m(\u001b[39m\"\u001b[39m\u001b[39mCannot describe a DataFrame without columns\u001b[39m\u001b[39m\"\u001b[39m)\n\u001b[1;32m    162\u001b[0m \u001b[39msuper\u001b[39m()\u001b[39m.\u001b[39m\u001b[39m__init__\u001b[39m(obj)\n",
      "\u001b[0;31mValueError\u001b[0m: Cannot describe a DataFrame without columns"
     ]
    }
   ],
   "source": [
    "# |exporti\n",
    "print(data.info(), data.describe())\n"
   ]
  },
  {
   "cell_type": "code",
   "execution_count": null,
   "metadata": {},
   "outputs": [
    {
     "data": {
      "text/plain": [
       "0"
      ]
     },
     "execution_count": 15,
     "metadata": {},
     "output_type": "execute_result"
    }
   ],
   "source": [
    "# |exporti\n",
    "print(data.isnull().sum().sum()) # в датафрейме нет пропущенных значений\n"
   ]
  },
  {
   "cell_type": "code",
   "execution_count": null,
   "metadata": {},
   "outputs": [
    {
     "data": {
      "text/markdown": [
       "Все готово! Пусть и с костылями(вполне возможно банально в силу моей прошивки у меня все работает иначе, чем должно), теперь данные в готовом, правильном виде"
      ],
      "text/plain": [
       "<IPython.core.display.Markdown object>"
      ]
     },
     "metadata": {},
     "output_type": "display_data"
    }
   ],
   "source": [
    "# |exporti\n",
    "st.markdown(\"Все готово! Пусть и с костылями(вполне возможно банально в силу моей прошивки у меня все работает иначе, чем должно), теперь данные в готовом, правильном виде\")\n"
   ]
  },
  {
   "cell_type": "code",
   "execution_count": 134,
   "metadata": {},
   "outputs": [
    {
     "data": {
      "text/markdown": [
       "Посмотрим, присутствует ли дизбаланс классов:"
      ],
      "text/plain": [
       "<IPython.core.display.Markdown object>"
      ]
     },
     "metadata": {},
     "output_type": "display_data"
    }
   ],
   "source": [
    "# |exporti\n",
    "st.markdown(\"Посмотрим, присутствует ли дизбаланс классов:\")\n"
   ]
  },
  {
   "cell_type": "code",
   "execution_count": 135,
   "metadata": {},
   "outputs": [
    {
     "ename": "KeyError",
     "evalue": "'sex'",
     "output_type": "error",
     "traceback": [
      "\u001b[0;31m---------------------------------------------------------------------------\u001b[0m",
      "\u001b[0;31mKeyError\u001b[0m                                  Traceback (most recent call last)",
      "\u001b[1;32m/Users/dadaya/Desktop/M.tech/Гизатуллин_Тимур_Младший_исследователь_данных(DS).ipynb Ячейка 14\u001b[0m line \u001b[0;36m3\n\u001b[1;32m      <a href='vscode-notebook-cell:/Users/dadaya/Desktop/M.tech/%D0%93%D0%B8%D0%B7%D0%B0%D1%82%D1%83%D0%BB%D0%BB%D0%B8%D0%BD_%D0%A2%D0%B8%D0%BC%D1%83%D1%80_%D0%9C%D0%BB%D0%B0%D0%B4%D1%88%D0%B8%D0%B9_%D0%B8%D1%81%D1%81%D0%BB%D0%B5%D0%B4%D0%BE%D0%B2%D0%B0%D1%82%D0%B5%D0%BB%D1%8C_%D0%B4%D0%B0%D0%BD%D0%BD%D1%8B%D1%85%28DS%29.ipynb#X21sZmlsZQ%3D%3D?line=0'>1</a>\u001b[0m \u001b[39m# |exporti\u001b[39;00m\n\u001b[1;32m      <a href='vscode-notebook-cell:/Users/dadaya/Desktop/M.tech/%D0%93%D0%B8%D0%B7%D0%B0%D1%82%D1%83%D0%BB%D0%BB%D0%B8%D0%BD_%D0%A2%D0%B8%D0%BC%D1%83%D1%80_%D0%9C%D0%BB%D0%B0%D0%B4%D1%88%D0%B8%D0%B9_%D0%B8%D1%81%D1%81%D0%BB%D0%B5%D0%B4%D0%BE%D0%B2%D0%B0%D1%82%D0%B5%D0%BB%D1%8C_%D0%B4%D0%B0%D0%BD%D0%BD%D1%8B%D1%85%28DS%29.ipynb#X21sZmlsZQ%3D%3D?line=1'>2</a>\u001b[0m fig, ax \u001b[39m=\u001b[39m plt\u001b[39m.\u001b[39msubplots(figsize \u001b[39m=\u001b[39m (\u001b[39m10\u001b[39m, \u001b[39m6\u001b[39m), ncols \u001b[39m=\u001b[39m \u001b[39m2\u001b[39m)\n\u001b[0;32m----> <a href='vscode-notebook-cell:/Users/dadaya/Desktop/M.tech/%D0%93%D0%B8%D0%B7%D0%B0%D1%82%D1%83%D0%BB%D0%BB%D0%B8%D0%BD_%D0%A2%D0%B8%D0%BC%D1%83%D1%80_%D0%9C%D0%BB%D0%B0%D0%B4%D1%88%D0%B8%D0%B9_%D0%B8%D1%81%D1%81%D0%BB%D0%B5%D0%B4%D0%BE%D0%B2%D0%B0%D1%82%D0%B5%D0%BB%D1%8C_%D0%B4%D0%B0%D0%BD%D0%BD%D1%8B%D1%85%28DS%29.ipynb#X21sZmlsZQ%3D%3D?line=2'>3</a>\u001b[0m ax[\u001b[39m0\u001b[39m]\u001b[39m.\u001b[39mpie([(data[\u001b[39m'\u001b[39;49m\u001b[39msex\u001b[39;49m\u001b[39m'\u001b[39;49m] \u001b[39m==\u001b[39m \u001b[39m'\u001b[39m\u001b[39mfemale\u001b[39m\u001b[39m'\u001b[39m)\u001b[39m.\u001b[39msum(), (data[\u001b[39m'\u001b[39m\u001b[39msex\u001b[39m\u001b[39m'\u001b[39m] \u001b[39m==\u001b[39m \u001b[39m'\u001b[39m\u001b[39mmale\u001b[39m\u001b[39m'\u001b[39m)\u001b[39m.\u001b[39msum()], labels \u001b[39m=\u001b[39m [\u001b[39m'\u001b[39m\u001b[39mfemale\u001b[39m\u001b[39m'\u001b[39m, \u001b[39m'\u001b[39m\u001b[39mmale\u001b[39m\u001b[39m'\u001b[39m], autopct \u001b[39m=\u001b[39m \u001b[39m\"\u001b[39m\u001b[39m%1.2f\u001b[39;00m\u001b[39m%%\u001b[39;00m\u001b[39m\"\u001b[39m)\n\u001b[1;32m      <a href='vscode-notebook-cell:/Users/dadaya/Desktop/M.tech/%D0%93%D0%B8%D0%B7%D0%B0%D1%82%D1%83%D0%BB%D0%BB%D0%B8%D0%BD_%D0%A2%D0%B8%D0%BC%D1%83%D1%80_%D0%9C%D0%BB%D0%B0%D0%B4%D1%88%D0%B8%D0%B9_%D0%B8%D1%81%D1%81%D0%BB%D0%B5%D0%B4%D0%BE%D0%B2%D0%B0%D1%82%D0%B5%D0%BB%D1%8C_%D0%B4%D0%B0%D0%BD%D0%BD%D1%8B%D1%85%28DS%29.ipynb#X21sZmlsZQ%3D%3D?line=3'>4</a>\u001b[0m ax[\u001b[39m1\u001b[39m]\u001b[39m.\u001b[39mpie([(data[\u001b[39m'\u001b[39m\u001b[39mage\u001b[39m\u001b[39m'\u001b[39m] \u001b[39m>\u001b[39m \u001b[39m35\u001b[39m)\u001b[39m.\u001b[39msum(), (data[\u001b[39m'\u001b[39m\u001b[39mage\u001b[39m\u001b[39m'\u001b[39m] \u001b[39m<\u001b[39m\u001b[39m=\u001b[39m \u001b[39m35\u001b[39m)\u001b[39m.\u001b[39msum()], labels \u001b[39m=\u001b[39m [\u001b[39m'\u001b[39m\u001b[39memployees older than 35\u001b[39m\u001b[39m'\u001b[39m, \u001b[39m'\u001b[39m\u001b[39memployees younger than 35\u001b[39m\u001b[39m'\u001b[39m], autopct \u001b[39m=\u001b[39m \u001b[39m\"\u001b[39m\u001b[39m%1.2f\u001b[39;00m\u001b[39m%%\u001b[39;00m\u001b[39m\"\u001b[39m)\n\u001b[1;32m      <a href='vscode-notebook-cell:/Users/dadaya/Desktop/M.tech/%D0%93%D0%B8%D0%B7%D0%B0%D1%82%D1%83%D0%BB%D0%BB%D0%B8%D0%BD_%D0%A2%D0%B8%D0%BC%D1%83%D1%80_%D0%9C%D0%BB%D0%B0%D0%B4%D1%88%D0%B8%D0%B9_%D0%B8%D1%81%D1%81%D0%BB%D0%B5%D0%B4%D0%BE%D0%B2%D0%B0%D1%82%D0%B5%D0%BB%D1%8C_%D0%B4%D0%B0%D0%BD%D0%BD%D1%8B%D1%85%28DS%29.ipynb#X21sZmlsZQ%3D%3D?line=4'>5</a>\u001b[0m st\u001b[39m.\u001b[39mpyplot(fig)\n",
      "File \u001b[0;32m~/miniforge3/lib/python3.10/site-packages/pandas/core/frame.py:3893\u001b[0m, in \u001b[0;36mDataFrame.__getitem__\u001b[0;34m(self, key)\u001b[0m\n\u001b[1;32m   3891\u001b[0m \u001b[39mif\u001b[39;00m \u001b[39mself\u001b[39m\u001b[39m.\u001b[39mcolumns\u001b[39m.\u001b[39mnlevels \u001b[39m>\u001b[39m \u001b[39m1\u001b[39m:\n\u001b[1;32m   3892\u001b[0m     \u001b[39mreturn\u001b[39;00m \u001b[39mself\u001b[39m\u001b[39m.\u001b[39m_getitem_multilevel(key)\n\u001b[0;32m-> 3893\u001b[0m indexer \u001b[39m=\u001b[39m \u001b[39mself\u001b[39;49m\u001b[39m.\u001b[39;49mcolumns\u001b[39m.\u001b[39;49mget_loc(key)\n\u001b[1;32m   3894\u001b[0m \u001b[39mif\u001b[39;00m is_integer(indexer):\n\u001b[1;32m   3895\u001b[0m     indexer \u001b[39m=\u001b[39m [indexer]\n",
      "File \u001b[0;32m~/miniforge3/lib/python3.10/site-packages/pandas/core/indexes/range.py:418\u001b[0m, in \u001b[0;36mRangeIndex.get_loc\u001b[0;34m(self, key)\u001b[0m\n\u001b[1;32m    416\u001b[0m         \u001b[39mraise\u001b[39;00m \u001b[39mKeyError\u001b[39;00m(key) \u001b[39mfrom\u001b[39;00m \u001b[39merr\u001b[39;00m\n\u001b[1;32m    417\u001b[0m \u001b[39mif\u001b[39;00m \u001b[39misinstance\u001b[39m(key, Hashable):\n\u001b[0;32m--> 418\u001b[0m     \u001b[39mraise\u001b[39;00m \u001b[39mKeyError\u001b[39;00m(key)\n\u001b[1;32m    419\u001b[0m \u001b[39mself\u001b[39m\u001b[39m.\u001b[39m_check_indexing_error(key)\n\u001b[1;32m    420\u001b[0m \u001b[39mraise\u001b[39;00m \u001b[39mKeyError\u001b[39;00m(key)\n",
      "\u001b[0;31mKeyError\u001b[0m: 'sex'"
     ]
    }
   ],
   "source": [
    "# |exporti\n",
    "fig, ax = plt.subplots(figsize = (10, 6), ncols = 2)\n",
    "ax[0].pie([(data['sex'] == 'female').sum(), (data['sex'] == 'male').sum()], labels = ['female', 'male'], autopct = \"%1.2f%%\")\n",
    "ax[1].pie([(data['age'] > 35).sum(), (data['age'] <= 35).sum()], labels = ['employees older than 35', 'employees younger than 35'], autopct = \"%1.2f%%\")\n",
    "st.pyplot(fig)\n"
   ]
  },
  {
   "cell_type": "code",
   "execution_count": 136,
   "metadata": {},
   "outputs": [
    {
     "data": {
      "text/markdown": [
       "Он присутствует, но в силу того, что мы не будем работать с методами, которые плохо работают с несбалансированными классами при проверке гипотез, просто будем иметь в виду, что по-хорошему нужно брать в расчет, что при экстраполяции рассуждений про возраст сотрудников, стоит вспомнить о дисбалансе классов в данной работе"
      ],
      "text/plain": [
       "<IPython.core.display.Markdown object>"
      ]
     },
     "metadata": {},
     "output_type": "display_data"
    }
   ],
   "source": [
    "# |exporti\n",
    "st.markdown(\"Он присутствует, но в силу того, что мы не будем работать с методами, которые плохо работают с несбалансированными классами при проверке гипотез, просто будем иметь в виду, что по-хорошему нужно брать в расчет, что при экстраполяции рассуждений про возраст сотрудников, стоит вспомнить о дисбалансе классов в данной работе\")\n"
   ]
  },
  {
   "cell_type": "code",
   "execution_count": 137,
   "metadata": {},
   "outputs": [
    {
     "data": {
      "text/markdown": [
       "Сохраним в отдельные переменные интересующие нас серии - сотрудников мужчин/женщин, и сотрудников старше 35 лет/не старше 35 лет"
      ],
      "text/plain": [
       "<IPython.core.display.Markdown object>"
      ]
     },
     "metadata": {},
     "output_type": "display_data"
    }
   ],
   "source": [
    "# |exporti\n",
    "st.markdown(\"Сохраним в отдельные переменные интересующие нас серии - сотрудников мужчин/женщин, и сотрудников старше 35 лет/не старше 35 лет\")\n"
   ]
  },
  {
   "cell_type": "code",
   "execution_count": 138,
   "metadata": {},
   "outputs": [
    {
     "ename": "KeyError",
     "evalue": "'sick_days_amount'",
     "output_type": "error",
     "traceback": [
      "\u001b[0;31m---------------------------------------------------------------------------\u001b[0m",
      "\u001b[0;31mKeyError\u001b[0m                                  Traceback (most recent call last)",
      "\u001b[1;32m/Users/dadaya/Desktop/M.tech/Гизатуллин_Тимур_Младший_исследователь_данных(DS).ipynb Ячейка 17\u001b[0m line \u001b[0;36m2\n\u001b[1;32m      <a href='vscode-notebook-cell:/Users/dadaya/Desktop/M.tech/%D0%93%D0%B8%D0%B7%D0%B0%D1%82%D1%83%D0%BB%D0%BB%D0%B8%D0%BD_%D0%A2%D0%B8%D0%BC%D1%83%D1%80_%D0%9C%D0%BB%D0%B0%D0%B4%D1%88%D0%B8%D0%B9_%D0%B8%D1%81%D1%81%D0%BB%D0%B5%D0%B4%D0%BE%D0%B2%D0%B0%D1%82%D0%B5%D0%BB%D1%8C_%D0%B4%D0%B0%D0%BD%D0%BD%D1%8B%D1%85%28DS%29.ipynb#X24sZmlsZQ%3D%3D?line=0'>1</a>\u001b[0m \u001b[39m# |exporti\u001b[39;00m\n\u001b[0;32m----> <a href='vscode-notebook-cell:/Users/dadaya/Desktop/M.tech/%D0%93%D0%B8%D0%B7%D0%B0%D1%82%D1%83%D0%BB%D0%BB%D0%B8%D0%BD_%D0%A2%D0%B8%D0%BC%D1%83%D1%80_%D0%9C%D0%BB%D0%B0%D0%B4%D1%88%D0%B8%D0%B9_%D0%B8%D1%81%D1%81%D0%BB%D0%B5%D0%B4%D0%BE%D0%B2%D0%B0%D1%82%D0%B5%D0%BB%D1%8C_%D0%B4%D0%B0%D0%BD%D0%BD%D1%8B%D1%85%28DS%29.ipynb#X24sZmlsZQ%3D%3D?line=1'>2</a>\u001b[0m male \u001b[39m=\u001b[39m data[\u001b[39m'\u001b[39;49m\u001b[39msick_days_amount\u001b[39;49m\u001b[39m'\u001b[39;49m][data[\u001b[39m'\u001b[39m\u001b[39msex\u001b[39m\u001b[39m'\u001b[39m] \u001b[39m==\u001b[39m \u001b[39m'\u001b[39m\u001b[39mmale\u001b[39m\u001b[39m'\u001b[39m]\n\u001b[1;32m      <a href='vscode-notebook-cell:/Users/dadaya/Desktop/M.tech/%D0%93%D0%B8%D0%B7%D0%B0%D1%82%D1%83%D0%BB%D0%BB%D0%B8%D0%BD_%D0%A2%D0%B8%D0%BC%D1%83%D1%80_%D0%9C%D0%BB%D0%B0%D0%B4%D1%88%D0%B8%D0%B9_%D0%B8%D1%81%D1%81%D0%BB%D0%B5%D0%B4%D0%BE%D0%B2%D0%B0%D1%82%D0%B5%D0%BB%D1%8C_%D0%B4%D0%B0%D0%BD%D0%BD%D1%8B%D1%85%28DS%29.ipynb#X24sZmlsZQ%3D%3D?line=2'>3</a>\u001b[0m female \u001b[39m=\u001b[39m data[\u001b[39m'\u001b[39m\u001b[39msick_days_amount\u001b[39m\u001b[39m'\u001b[39m][data[\u001b[39m'\u001b[39m\u001b[39msex\u001b[39m\u001b[39m'\u001b[39m] \u001b[39m==\u001b[39m \u001b[39m'\u001b[39m\u001b[39mfemale\u001b[39m\u001b[39m'\u001b[39m]\n\u001b[1;32m      <a href='vscode-notebook-cell:/Users/dadaya/Desktop/M.tech/%D0%93%D0%B8%D0%B7%D0%B0%D1%82%D1%83%D0%BB%D0%BB%D0%B8%D0%BD_%D0%A2%D0%B8%D0%BC%D1%83%D1%80_%D0%9C%D0%BB%D0%B0%D0%B4%D1%88%D0%B8%D0%B9_%D0%B8%D1%81%D1%81%D0%BB%D0%B5%D0%B4%D0%BE%D0%B2%D0%B0%D1%82%D0%B5%D0%BB%D1%8C_%D0%B4%D0%B0%D0%BD%D0%BD%D1%8B%D1%85%28DS%29.ipynb#X24sZmlsZQ%3D%3D?line=3'>4</a>\u001b[0m elder \u001b[39m=\u001b[39m data[\u001b[39m'\u001b[39m\u001b[39msick_days_amount\u001b[39m\u001b[39m'\u001b[39m][data[\u001b[39m'\u001b[39m\u001b[39mage\u001b[39m\u001b[39m'\u001b[39m] \u001b[39m>\u001b[39m \u001b[39m35\u001b[39m]\n",
      "File \u001b[0;32m~/miniforge3/lib/python3.10/site-packages/pandas/core/frame.py:3893\u001b[0m, in \u001b[0;36mDataFrame.__getitem__\u001b[0;34m(self, key)\u001b[0m\n\u001b[1;32m   3891\u001b[0m \u001b[39mif\u001b[39;00m \u001b[39mself\u001b[39m\u001b[39m.\u001b[39mcolumns\u001b[39m.\u001b[39mnlevels \u001b[39m>\u001b[39m \u001b[39m1\u001b[39m:\n\u001b[1;32m   3892\u001b[0m     \u001b[39mreturn\u001b[39;00m \u001b[39mself\u001b[39m\u001b[39m.\u001b[39m_getitem_multilevel(key)\n\u001b[0;32m-> 3893\u001b[0m indexer \u001b[39m=\u001b[39m \u001b[39mself\u001b[39;49m\u001b[39m.\u001b[39;49mcolumns\u001b[39m.\u001b[39;49mget_loc(key)\n\u001b[1;32m   3894\u001b[0m \u001b[39mif\u001b[39;00m is_integer(indexer):\n\u001b[1;32m   3895\u001b[0m     indexer \u001b[39m=\u001b[39m [indexer]\n",
      "File \u001b[0;32m~/miniforge3/lib/python3.10/site-packages/pandas/core/indexes/range.py:418\u001b[0m, in \u001b[0;36mRangeIndex.get_loc\u001b[0;34m(self, key)\u001b[0m\n\u001b[1;32m    416\u001b[0m         \u001b[39mraise\u001b[39;00m \u001b[39mKeyError\u001b[39;00m(key) \u001b[39mfrom\u001b[39;00m \u001b[39merr\u001b[39;00m\n\u001b[1;32m    417\u001b[0m \u001b[39mif\u001b[39;00m \u001b[39misinstance\u001b[39m(key, Hashable):\n\u001b[0;32m--> 418\u001b[0m     \u001b[39mraise\u001b[39;00m \u001b[39mKeyError\u001b[39;00m(key)\n\u001b[1;32m    419\u001b[0m \u001b[39mself\u001b[39m\u001b[39m.\u001b[39m_check_indexing_error(key)\n\u001b[1;32m    420\u001b[0m \u001b[39mraise\u001b[39;00m \u001b[39mKeyError\u001b[39;00m(key)\n",
      "\u001b[0;31mKeyError\u001b[0m: 'sick_days_amount'"
     ]
    }
   ],
   "source": [
    "# |exporti\n",
    "male = data['sick_days_amount'][data['sex'] == 'male']\n",
    "female = data['sick_days_amount'][data['sex'] == 'female']\n",
    "elder = data['sick_days_amount'][data['age'] > 35]\n",
    "younger = data['sick_days_amount'][data['age'] <= 35]\n",
    "male.name, female.name, elder.name, younger.name = \"Male\", \"Female\", \"Elder\", \"Younger\"\n"
   ]
  },
  {
   "cell_type": "code",
   "execution_count": 139,
   "metadata": {},
   "outputs": [
    {
     "data": {
      "text/markdown": [
       "Посмотрим на распределения количества больничных дней людей разного пола и разного возраста:"
      ],
      "text/plain": [
       "<IPython.core.display.Markdown object>"
      ]
     },
     "metadata": {},
     "output_type": "display_data"
    }
   ],
   "source": [
    "# |exporti\n",
    "st.markdown(\"Посмотрим на распределения количества больничных дней людей разного пола и разного возраста:\")\n"
   ]
  },
  {
   "cell_type": "code",
   "execution_count": 140,
   "metadata": {},
   "outputs": [
    {
     "data": {
      "text/plain": [
       "DeltaGenerator()"
      ]
     },
     "execution_count": 140,
     "metadata": {},
     "output_type": "execute_result"
    }
   ],
   "source": [
    "# |exporti\n",
    "fig, ax = plt.subplots(ncols = 2, figsize = (20, 10))\n",
    "fig.set(facecolor = '#eee')\n",
    "x = np.arange(0, 9, 1)\n",
    "w = 0.35\n",
    "sick_days_male = np.array([(male == i).sum() for i in x])\n",
    "sick_days_female = np.array([(female == i).sum() for i in x])\n",
    "sick_days_elder = np.array([(elder == i).sum() for i in x])\n",
    "sick_days_younger = np.array([(younger == i).sum() for i in x])\n",
    "ax[0].bar(x - w / 2, sick_days_male, label = \"Male\", width = w)\n",
    "ax[0].bar(x + w / 2, sick_days_female, label = \"Female\", width = w)\n",
    "ax[1].bar(x - w / 2, sick_days_elder, label = \"Elder\", width = w)\n",
    "ax[1].bar(x + w / 2, sick_days_younger, label = \"Younger\", width = w)\n",
    "ax[0].grid(which = 'major', color = '#444', lw = 0.1)\n",
    "ax[1].grid(which = 'major', color = '#444', lw = 0.1)\n",
    "ax[0].set_xticks(x), ax[1].set_xticks(x)\n",
    "ax[0].set_title('Distribution of employees based on their sex'), ax[1].set_title('Distribution of employees based on their age')\n",
    "ax[0].set_ylabel('Amount of employees'), ax[1].set_ylabel('Amount of employees')\n",
    "ax[0].set_xlabel('Amount of sick days'), ax[1].set_xlabel('Amount of sick days')\n",
    "ax[0].legend(), ax[1].legend()\n",
    "st.pyplot(fig)\n"
   ]
  },
  {
   "cell_type": "code",
   "execution_count": 141,
   "metadata": {},
   "outputs": [
    {
     "data": {
      "text/plain": [
       "DeltaGenerator()"
      ]
     },
     "execution_count": 141,
     "metadata": {},
     "output_type": "execute_result"
    }
   ],
   "source": [
    "# |exporti\n",
    "fig, ax = plt.subplots(ncols = 2, figsize = (20, 10))\n",
    "fig.set(facecolor = '#eee')\n",
    "x = np.arange(0, 9, 1)\n",
    "x_1 = np.arange(0, 9, 0.1)\n",
    "ax[0].hist(male, density = True, color = \"red\", label = \"Male\", alpha = 0.3, bins = 9)\n",
    "ax[0].hist(female, density = True, color = \"blue\", label = \"Female\", alpha = 0.3, bins = 9)\n",
    "ax[0].plot(x_1, sps.norm(male.mean(), male.std()).pdf(x_1), color = \"red\", label = \"Male\")\n",
    "ax[0].plot(x_1, sps.norm(female.mean(), female.std()).pdf(x_1), color = \"blue\", label = \"Female\")\n",
    "ax[1].hist(elder, density = True, color = \"red\", label = \"Elder\", alpha = 0.3, bins = 9)\n",
    "ax[1].hist(younger, density = True, color = \"blue\", label = \"Younger\", alpha = 0.3, bins = 9)\n",
    "ax[1].plot(x_1, sps.norm(elder.mean(), elder.std()).pdf(x_1), color = \"red\", label = \"Elder\")\n",
    "ax[1].plot(x_1, sps.norm(younger.mean(), younger.std()).pdf(x_1), color = \"blue\", label = \"Younger\")\n",
    "ax[0].grid(which = 'major', color = '#444', lw = 0.1)\n",
    "ax[1].grid(which = 'major', color = '#444', lw = 0.1)\n",
    "ax[0].set_xticks(x), ax[1].set_xticks(x)\n",
    "ax[0].set_title('Histogram of employees based on their sex'), ax[1].set_title('Histogram of employees based on their age')\n",
    "ax[0].set_ylabel('Amount of employees'), ax[1].set_ylabel('Amount of employees')\n",
    "ax[0].set_xlabel('Amount of sick days'), ax[1].set_xlabel('Amount of sick days')\n",
    "ax[0].legend(), ax[1].legend()\n",
    "st.pyplot(fig)\n"
   ]
  },
  {
   "cell_type": "code",
   "execution_count": 142,
   "metadata": {},
   "outputs": [
    {
     "data": {
      "text/plain": [
       "DeltaGenerator()"
      ]
     },
     "execution_count": 142,
     "metadata": {},
     "output_type": "execute_result"
    }
   ],
   "source": [
    "fig, ax = plt.subplots(ncols = 2, figsize = (20, 10))\n",
    "fig.set(facecolor = '#eee')\n",
    "x = np.arange(3, 9, 1)\n",
    "x_1 = np.arange(3, 9, 0.1)\n",
    "ax[0].hist(male[male > 2], density = True, color = \"red\", label = \"Male\", alpha = 0.3)\n",
    "ax[0].hist(female[female > 2], density = True, color = \"blue\", label = \"Female\", alpha = 0.3)\n",
    "ax[0].plot(x_1, sps.norm(male[male > 2].mean(), male[male > 2].std()).pdf(x_1), color = \"red\", label = \"Male\")\n",
    "ax[0].plot(x_1, sps.norm(female[female > 2].mean(), female[female > 2].std()).pdf(x_1), color = \"blue\", label = \"Female\")\n",
    "ax[1].hist(elder[elder > 2], density = True, color = \"red\", label = \"Elder\", alpha = 0.3, bins = 9)\n",
    "ax[1].hist(younger[younger > 2], density = True, color = \"blue\", label = \"Younger\", alpha = 0.3, bins = 9)\n",
    "ax[1].plot(x_1, sps.norm(elder[elder > 2].mean(), elder[elder > 2].std()).pdf(x_1), color = \"red\", label = \"Elder\")\n",
    "ax[1].plot(x_1, sps.norm(younger[younger > 2].mean(), younger[younger > 2].std()).pdf(x_1), color = \"blue\", label = \"Younger\")\n",
    "ax[0].grid(which = 'major', color = '#444', lw = 0.1)\n",
    "ax[1].grid(which = 'major', color = '#444', lw = 0.1)\n",
    "ax[0].set_xticks(x), ax[1].set_xticks(x)\n",
    "ax[0].set_title('Histogram of employees based on their sex'), ax[1].set_title('Histogram of employees based on their age')\n",
    "ax[0].set_ylabel('Amount of employees'), ax[1].set_ylabel('Amount of employees')\n",
    "ax[0].set_xlabel('Amount of sick days'), ax[1].set_xlabel('Amount of sick days')\n",
    "ax[0].legend(), ax[1].legend()\n",
    "st.pyplot(fig)\n"
   ]
  },
  {
   "cell_type": "code",
   "execution_count": 143,
   "metadata": {},
   "outputs": [
    {
     "data": {
      "text/plain": [
       "DeltaGenerator()"
      ]
     },
     "execution_count": 143,
     "metadata": {},
     "output_type": "execute_result"
    }
   ],
   "source": [
    "fig = plt.figure()\n",
    "sns.displot(male, kde = True, bins = 9, stat = \"percent\", label = \"Male\")\n",
    "plt.legend()\n",
    "st.pyplot(fig)\n"
   ]
  },
  {
   "cell_type": "code",
   "execution_count": 144,
   "metadata": {},
   "outputs": [
    {
     "data": {
      "text/plain": [
       "DeltaGenerator()"
      ]
     },
     "execution_count": 144,
     "metadata": {},
     "output_type": "execute_result"
    }
   ],
   "source": [
    "fig = plt.figure()\n",
    "sns.displot(female, kde = True, bins = 9, stat = \"percent\", label = \"Female\")\n",
    "plt.legend()\n",
    "st.pyplot(fig)\n"
   ]
  },
  {
   "cell_type": "code",
   "execution_count": 145,
   "metadata": {},
   "outputs": [
    {
     "data": {
      "text/plain": [
       "DeltaGenerator()"
      ]
     },
     "execution_count": 145,
     "metadata": {},
     "output_type": "execute_result"
    }
   ],
   "source": [
    "fig = plt.figure()\n",
    "sns.displot(elder, kde = True, bins = 9, stat = \"percent\", label = \"Elder\")\n",
    "plt.legend()\n",
    "st.pyplot(fig)\n"
   ]
  },
  {
   "cell_type": "code",
   "execution_count": 146,
   "metadata": {},
   "outputs": [
    {
     "data": {
      "text/plain": [
       "DeltaGenerator()"
      ]
     },
     "execution_count": 146,
     "metadata": {},
     "output_type": "execute_result"
    }
   ],
   "source": [
    "fig = plt.figure()\n",
    "sns.displot(younger, kde = True, bins = 9, stat = \"percent\", label = \"Younger\")\n",
    "plt.legend()\n",
    "st.pyplot(fig)\n"
   ]
  },
  {
   "cell_type": "code",
   "execution_count": 147,
   "metadata": {},
   "outputs": [
    {
     "data": {
      "text/markdown": [
       "p-value for male/female: 0.521300054528677\n",
       "\n",
       "p-value for elder/younger: 0.577429487644749\n",
       "\n",
       "Проверим, равны ли дисперсии с помощью критерия Флигнера-Килина:"
      ],
      "text/plain": [
       "<IPython.core.display.Markdown object>"
      ]
     },
     "metadata": {},
     "output_type": "display_data"
    },
    {
     "data": {
      "text/markdown": [
       "## Уже на этом моменте можно сделать промежуточные выводы: визуально гипотезы отвергаются: среднее ни по всем дням, ни по дням, заведомо большим 2, ни у мужчин, ни у сотрудников старше 35, не значительно больше, чем у женщин и сотрудников младше 45 соответсвенно"
      ],
      "text/plain": [
       "<IPython.core.display.Markdown object>"
      ]
     },
     "metadata": {},
     "output_type": "display_data"
    },
    {
     "data": {
      "text/markdown": [
       "Как видим, распределения всех подвыборок условно нормальны."
      ],
      "text/plain": [
       "<IPython.core.display.Markdown object>"
      ]
     },
     "metadata": {},
     "output_type": "display_data"
    }
   ],
   "source": [
    "# |exporti\n",
    "st.markdown(\"\"\"Проверим, равны ли дисперсии с помощью критерия Флигнера-Килина:\n",
    "\n",
    "p-value for male/female: 0.521300054528677\n",
    "\n",
    "p-value for elder/younger: 0.577429487644749\"\"\")\n",
    "\n",
    "st.header(\"Уже на этом моменте можно сделать промежуточные выводы: визуально гипотезы отвергаются: среднее ни по всем дням, ни по дням, заведомо большим 2, ни у мужчин, ни у сотрудников старше 35, не значительно больше, чем у женщин и сотрудников младше 45 соответсвенно\")\n",
    "\n",
    "st.markdown(\"Как видим, распределения всех подвыборок условно нормальны.\")\n"
   ]
  },
  {
   "cell_type": "code",
   "execution_count": 148,
   "metadata": {},
   "outputs": [
    {
     "data": {
      "text/markdown": [
       "С предположением нормальности распределений посчитаем коэффиценты асимметричности и коэффиценты эксцесса для каждой подвыборки:"
      ],
      "text/plain": [
       "<IPython.core.display.Markdown object>"
      ]
     },
     "metadata": {},
     "output_type": "display_data"
    }
   ],
   "source": [
    "# |exporti\n",
    "st.markdown(\"С предположением нормальности распределений посчитаем коэффиценты асимметричности и коэффиценты эксцесса для каждой подвыборки:\")\n"
   ]
  },
  {
   "cell_type": "code",
   "execution_count": 150,
   "metadata": {},
   "outputs": [
    {
     "data": {
      "text/markdown": [
       "skew for male: 0.6067065891837976\n",
       "\n",
       "skew for female: 0.39155159923496313\n",
       "\n",
       "skew for elder: 0.49496297808182604\n",
       "\n",
       "skew for younger: 0.566980016696773\n",
       "\n",
       "kurtosis for male: 0.06505299465667269\n",
       "\n",
       "kurtosis for female: -0.3128281110063993\n",
       "\n",
       "kurtosis for elder: -0.08896906917026026\n",
       "\n",
       "kurtosis for younger: -0.022074744077901443\n",
       "\n",
       "Все подвыборки(опять же, в предположении их визуальной условной нормальности) оказываются положительно асимметричными нормальными.\n",
       "\n",
       "И проведем тест критерием асимметричности и эксцесса:\n",
       "\n",
       "p-value for male: 0.004241974397249691\n",
       "\n",
       "p-value for female: 0.1014452240311182\n",
       "\n",
       "p-value for elder: 0.0073590623737652735\n",
       "\n",
       "p-value for younger: 0.06675296318279056"
      ],
      "text/plain": [
       "<IPython.core.display.Markdown object>"
      ]
     },
     "metadata": {},
     "output_type": "display_data"
    }
   ],
   "source": [
    "# |exporti\n",
    "st.markdown(\"\"\"skew for male: 0.6067065891837976\n",
    "\n",
    "skew for female: 0.39155159923496313\n",
    "\n",
    "skew for elder: 0.49496297808182604\n",
    "\n",
    "skew for younger: 0.566980016696773\n",
    "\n",
    "kurtosis for male: 0.06505299465667269\n",
    "\n",
    "kurtosis for female: -0.3128281110063993\n",
    "\n",
    "kurtosis for elder: -0.08896906917026026\n",
    "\n",
    "kurtosis for younger: -0.022074744077901443\n",
    "\n",
    "Все подвыборки(опять же, в предположении их визуальной условной нормальности) оказываются положительно асимметричными нормальными.\n",
    "\n",
    "И проведем тест критерием асимметричности и эксцесса:\n",
    "\n",
    "p-value for male: 0.004241974397249691\n",
    "\n",
    "p-value for female: 0.1014452240311182\n",
    "\n",
    "p-value for elder: 0.0073590623737652735\n",
    "\n",
    "p-value for younger: 0.06675296318279056\"\"\")\n"
   ]
  },
  {
   "cell_type": "code",
   "execution_count": 152,
   "metadata": {},
   "outputs": [
    {
     "data": {
      "text/markdown": [
       "p-value недостатчно большой, в силу чего у нас есть достаточно оснований для отвержения гипотезы о нормальности наших выборок.\n",
       "\n",
       "Подтверждается, что они принадлежат параметрическому семейству распределений, критерием согласия Пирсона:\n",
       "\n",
       "p-value for male: 0.15452086628661144\n",
       "\n",
       "p-value for female: 0.8585814797449028\n",
       "\n",
       "p-value for elder: 0.5390945133682639\n",
       "\n",
       "p-value for younger: 0.333555647083237\n",
       "\n",
       "Попробуем проверить принадлежность наших подвыборок к какому-либо семейству распределений из возможных на вид с помощью t-теста Стьюдента:"
      ],
      "text/plain": [
       "<IPython.core.display.Markdown object>"
      ]
     },
     "metadata": {},
     "output_type": "display_data"
    }
   ],
   "source": [
    "# |exporti\n",
    "st.markdown(\"\"\"p-value недостатчно большой, в силу чего у нас есть достаточно оснований для отвержения гипотезы о нормальности наших выборок.\n",
    "\n",
    "Подтверждается, что они принадлежат параметрическому семейству распределений, критерием согласия Пирсона:\n",
    "\n",
    "p-value for male: 0.15452086628661144\n",
    "\n",
    "p-value for female: 0.8585814797449028\n",
    "\n",
    "p-value for elder: 0.5390945133682639\n",
    "\n",
    "p-value for younger: 0.333555647083237\n",
    "\n",
    "Попробуем проверить принадлежность наших подвыборок к какому-либо семейству распределений из возможных на вид с помощью t-теста Стьюдента:\"\"\")\n"
   ]
  },
  {
   "cell_type": "code",
   "execution_count": 160,
   "metadata": {},
   "outputs": [
    {
     "data": {
      "text/markdown": [
       "Ни одно из опробованных распределений не оказалось подтверждено, разве что гамма-распределение давало неплохие относительные значения p-value. Другими словами, найти правильное оригинальное распределение у меня не получилось.\n",
       "\n",
       "Далее я пытался подобрать параметр гамма-распределения, при котором будет достигаться максимальное значение функции правдоподобия, но это не увенчалось успехом, потому что, как мне кажется, на этом моменте я уже шел не в ту сторону, ведь для проверки основных гипотез у нас уже есть все, что нужно:"
      ],
      "text/plain": [
       "<IPython.core.display.Markdown object>"
      ]
     },
     "metadata": {},
     "output_type": "display_data"
    }
   ],
   "source": [
    "# |exporti\n",
    "st.markdown(\"\"\"Ни одно из опробованных распределений не оказалось подтверждено, разве что гамма-распределение давало неплохие относительные значения p-value. Другими словами, найти правильное оригинальное распределение у меня не получилось.\n",
    "\n",
    "Далее я пытался подобрать параметр гамма-распределения, при котором будет достигаться максимальное значение функции правдоподобия, но это не увенчалось успехом, потому что, как мне кажется, на этом моменте я уже шел не в ту сторону, ведь для проверки основных гипотез у нас уже есть все, что нужно:\"\"\")\n"
   ]
  },
  {
   "cell_type": "code",
   "execution_count": 166,
   "metadata": {},
   "outputs": [
    {
     "data": {
      "text/markdown": [
       "В распределениях нет выбросов, которые не дают применить критерий Стьюдента, а также размер наших выборок достаточно большой, чтобы не требовать оговорку на их нормальность при тесте Стьюдента.\n",
       "\n",
       "На гистограммах для полов и мужское, и женское распределения условно нормальны. Их дисперсии, в силу достаточно большого p-value по критерию Флингера-Килина, с допущением на ошибку равны.\n",
       "\n",
       "Для распределений для полов и для возрастов в четырех выборках попарно находятся разные наблюдаемые обьекты, то есть выборки несвязные. Значит, гипотезу о равенстве средних будем проверять с помощью t-теста Стьюдента:\n",
       "\n",
       "p-value for male/female: 0.67806332103283\n",
       "\n",
       "p-value for elder/younger: 0.4487922957971878\n",
       "\n",
       "Значит, обе первоначальных гипотезы мы отвергаем - средние значения не удовлетворяют условию о значительно большем среднем."
      ],
      "text/plain": [
       "<IPython.core.display.Markdown object>"
      ]
     },
     "metadata": {},
     "output_type": "display_data"
    },
    {
     "data": {
      "text/markdown": [
       "## Вывод: итак, в ходе работы был проведен анализ датасета количества в течение года больничных дней людей - мужчин и женщин, людей старше 35 и нет, и были отпровергнуты обе первоначальные гипотезы:"
      ],
      "text/plain": [
       "<IPython.core.display.Markdown object>"
      ]
     },
     "metadata": {},
     "output_type": "display_data"
    },
    {
     "data": {
      "text/markdown": [
       "1) Мужчины пропускают в течение года более 2 рабочих дней (work_days) по болезни значимо чаще женщин.\n",
       "\n",
       "2) Работники старше 35 лет (age) пропускают в течение года более 2 рабочих дней (work_days) по болезни значимо чаще своих более молодых коллег."
      ],
      "text/plain": [
       "<IPython.core.display.Markdown object>"
      ]
     },
     "metadata": {},
     "output_type": "display_data"
    }
   ],
   "source": [
    "# |exporti\n",
    "st.markdown(\"\"\"В распределениях нет выбросов, которые не дают применить критерий Стьюдента, а также размер наших выборок достаточно большой, чтобы не требовать оговорку на их нормальность при тесте Стьюдента.\n",
    "\n",
    "На гистограммах для полов и мужское, и женское распределения условно нормальны. Их дисперсии, в силу достаточно большого p-value по критерию Флингера-Килина, с допущением на ошибку равны.\n",
    "\n",
    "Для распределений для полов и для возрастов в четырех выборках попарно находятся разные наблюдаемые обьекты, то есть выборки несвязные. Значит, гипотезу о равенстве средних будем проверять с помощью t-теста Стьюдента:\n",
    "\n",
    "p-value for male/female: 0.67806332103283\n",
    "\n",
    "p-value for elder/younger: 0.4487922957971878\n",
    "\n",
    "Значит, обе первоначальных гипотезы мы отвергаем - средние значения не удовлетворяют условию о значительно большем среднем.\"\"\")\n",
    "\n",
    "st.header(\"Вывод: итак, в ходе работы был проведен анализ датасета количества в течение года больничных дней людей - мужчин и женщин, людей старше 35 и нет, и были отпровергнуты обе первоначальные гипотезы:\")\n",
    "\n",
    "st.markdown(\"\"\"1) Мужчины пропускают в течение года более 2 рабочих дней (work_days) по болезни значимо чаще женщин.\n",
    "\n",
    "2) Работники старше 35 лет (age) пропускают в течение года более 2 рабочих дней (work_days) по болезни значимо чаще своих более молодых коллег.\"\"\")\n"
   ]
  }
 ],
 "metadata": {
  "kernelspec": {
   "display_name": "base",
   "language": "python",
   "name": "python3"
  },
  "language_info": {
   "codemirror_mode": {
    "name": "ipython",
    "version": 3
   },
   "file_extension": ".py",
   "mimetype": "text/x-python",
   "name": "python",
   "nbconvert_exporter": "python",
   "pygments_lexer": "ipython3",
   "version": "3.10.12"
  }
 },
 "nbformat": 4,
 "nbformat_minor": 2
}
